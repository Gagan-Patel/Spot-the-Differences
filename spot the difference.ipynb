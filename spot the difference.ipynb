{
 "cells": [
  {
   "cell_type": "markdown",
   "id": "93dd8077",
   "metadata": {},
   "source": [
    "### imutils provides convenience functions to make basic image processing functions easier. It supports operations such as translation, rotation, resizing, skeletonization, displaying Matplotlib images, sorting contours, detecting edges, and much more1. "
   ]
  },
  {
   "cell_type": "markdown",
   "id": "cbf6b7e2",
   "metadata": {},
   "source": [
    "import anvil.server\n",
    "anvil.server.connect(\"server_AOUNFM7MJI2QYVOKIN6SQEIK-27LXPB6QDUY7LEWS\")"
   ]
  },
  {
   "cell_type": "markdown",
   "id": "8f1f5a55",
   "metadata": {},
   "source": [
    "import anvil.media\n",
    "@anvil.server.callable\n"
   ]
  },
  {
   "cell_type": "code",
   "execution_count": 1,
   "id": "d5d754db",
   "metadata": {},
   "outputs": [
    {
     "name": "stdout",
     "output_type": "stream",
     "text": [
      "Requirement already satisfied: imutils in c:\\users\\gagka\\anaconda3\\lib\\site-packages (0.5.4)\n",
      "Note: you may need to restart the kernel to use updated packages.\n"
     ]
    }
   ],
   "source": [
    "pip install imutils\n"
   ]
  },
  {
   "cell_type": "code",
   "execution_count": 2,
   "id": "d50bb155",
   "metadata": {},
   "outputs": [
    {
     "name": "stdout",
     "output_type": "stream",
     "text": [
      "Requirement already satisfied: opencv-python in c:\\users\\gagka\\anaconda3\\lib\\site-packages (4.7.0.72)\n",
      "Requirement already satisfied: numpy>=1.19.3 in c:\\users\\gagka\\anaconda3\\lib\\site-packages (from opencv-python) (1.21.5)\n",
      "Note: you may need to restart the kernel to use updated packages.\n"
     ]
    }
   ],
   "source": [
    "pip install opencv-python\n"
   ]
  },
  {
   "cell_type": "code",
   "execution_count": 3,
   "id": "fa5a3585",
   "metadata": {},
   "outputs": [],
   "source": [
    "# SSIM is used as a metric to measure the similarity between two given images\n",
    "from skimage.metrics import structural_similarity\n",
    "import imutils \n",
    "import cv2"
   ]
  },
  {
   "cell_type": "code",
   "execution_count": 4,
   "id": "5a10301b",
   "metadata": {},
   "outputs": [],
   "source": [
    "image_one = cv2.imread(\"C:\\\\Users\\\\gagka\\\\Downloads\\\\imag.jpeg\")\n",
    "image_two = cv2.imread(\"C:\\\\Users\\\\gagka\\\\Downloads\\\\imag1.jpg\")\n"
   ]
  },
  {
   "cell_type": "code",
   "execution_count": 5,
   "id": "a53f885f",
   "metadata": {},
   "outputs": [
    {
     "data": {
      "text/plain": [
       "(1691, 2000, 3)"
      ]
     },
     "execution_count": 5,
     "metadata": {},
     "output_type": "execute_result"
    }
   ],
   "source": [
    "image_one.shape"
   ]
  },
  {
   "cell_type": "code",
   "execution_count": 6,
   "id": "8084a006",
   "metadata": {},
   "outputs": [
    {
     "data": {
      "text/plain": [
       "(1691, 2000, 3)"
      ]
     },
     "execution_count": 6,
     "metadata": {},
     "output_type": "execute_result"
    }
   ],
   "source": [
    "image_two.shape"
   ]
  },
  {
   "cell_type": "code",
   "execution_count": 7,
   "id": "ad1aef89",
   "metadata": {},
   "outputs": [],
   "source": [
    "#convert both the images to grayscale to make the computation easier and algorithms are much more accurate on grayscale images.\n",
    "gray1 = cv2.cvtColor(image_one, cv2.COLOR_BGR2GRAY)\n",
    "gray2 = cv2.cvtColor(image_two, cv2.COLOR_BGR2GRAY)"
   ]
  },
  {
   "cell_type": "code",
   "execution_count": 8,
   "id": "6d1a853c",
   "metadata": {},
   "outputs": [
    {
     "name": "stdout",
     "output_type": "stream",
     "text": [
      "similarity 0.9775186001925159\n"
     ]
    }
   ],
   "source": [
    "#from skimage.metrics import structural_similarity as ssim\n",
    "\n",
    "(score,diff) = structural_similarity(gray1,gray2, full = True)\n",
    "diff = (diff*255).astype (\"uint8\")\n",
    "\n",
    "print(\"similarity {}\".format(score))"
   ]
  },
  {
   "cell_type": "code",
   "execution_count": 9,
   "id": "ae5e802a",
   "metadata": {},
   "outputs": [],
   "source": [
    "# Threshhold is used for segementing\n",
    "# It seperates the object from background\n",
    "thresh = cv2.threshold(diff, 0 ,128,\n",
    "    cv2.THRESH_BINARY_INV | cv2.THRESH_OTSU) [1]\n",
    "cnts = cv2.findContours(thresh.copy(), cv2.RETR_EXTERNAL,\n",
    "    cv2.CHAIN_APPROX_SIMPLE)\n",
    "cnts = imutils.grab_contours(cnts)"
   ]
  },
  {
   "cell_type": "code",
   "execution_count": null,
   "id": "ea8a01c6",
   "metadata": {},
   "outputs": [
    {
     "name": "stdout",
     "output_type": "stream",
     "text": [
      "No of differences =  16\n"
     ]
    }
   ],
   "source": [
    "# loop over the contours\n",
    "no_of_diff = 0\n",
    "for c in cnts :\n",
    "    # comute the bounding box of the contour and then draw the bounding box\n",
    "    (x, y, w, h) = cv2.boundingRect(c)\n",
    "    rect_area = w*h\n",
    "    if rect_area > 10:\n",
    "        no_of_diff += 1\n",
    "        cv2.rectangle(image_one, (x,y), (x+w, y+h), (0, 0, 255), 2)\n",
    "        cv2.rectangle(image_one, (x,y), (x+w, y+h), (0, 0, 255), 2)\n",
    "print(\"No of differences = \", no_of_diff)\n",
    "# show image\n",
    "resized_img = cv2.resize(image_one, (870, 880))\n",
    "resized_img1 = cv2.resize(image_two, (980, 890))\n",
    "\n",
    "cv2.imshow('orignal', resized_img)\n",
    "cv2.imshow('spot the diff', resized_img1)\n",
    "\n",
    "\n",
    "#cv2.imshow(\"Orignal\", image_one)\n",
    "#cv2.imshow(\"spot the difference\", image_two)\n",
    "cv2.waitKey(0)"
   ]
  },
  {
   "cell_type": "code",
   "execution_count": null,
   "id": "44046f2f",
   "metadata": {},
   "outputs": [],
   "source": []
  },
  {
   "cell_type": "code",
   "execution_count": null,
   "id": "77a4a101",
   "metadata": {},
   "outputs": [],
   "source": []
  }
 ],
 "metadata": {
  "kernelspec": {
   "display_name": "Python 3 (ipykernel)",
   "language": "python",
   "name": "python3"
  },
  "language_info": {
   "codemirror_mode": {
    "name": "ipython",
    "version": 3
   },
   "file_extension": ".py",
   "mimetype": "text/x-python",
   "name": "python",
   "nbconvert_exporter": "python",
   "pygments_lexer": "ipython3",
   "version": "3.9.13"
  }
 },
 "nbformat": 4,
 "nbformat_minor": 5
}
